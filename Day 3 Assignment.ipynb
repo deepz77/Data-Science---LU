{
 "cells": [
  {
   "cell_type": "code",
   "execution_count": 3,
   "metadata": {},
   "outputs": [
    {
     "name": "stdout",
     "output_type": "stream",
     "text": [
      "1.18.5\n"
     ]
    }
   ],
   "source": [
    "# QESTION - 1\n",
    "\n",
    "import numpy as np\n",
    "\n",
    "print(np.__version__)"
   ]
  },
  {
   "cell_type": "code",
   "execution_count": 13,
   "metadata": {},
   "outputs": [],
   "source": [
    "arr = np.arange(start=2, stop=50, step=3)"
   ]
  },
  {
   "cell_type": "code",
   "execution_count": 14,
   "metadata": {},
   "outputs": [
    {
     "name": "stdout",
     "output_type": "stream",
     "text": [
      "[ 2  5  8 11 14 17 20 23 26 29 32 35 38 41 44 47]\n"
     ]
    }
   ],
   "source": [
    "print(arr)"
   ]
  },
  {
   "cell_type": "code",
   "execution_count": 25,
   "metadata": {},
   "outputs": [
    {
     "name": "stdout",
     "output_type": "stream",
     "text": [
      "5\n",
      "3\n",
      "5\n",
      "1\n",
      "4\n",
      "2\n",
      "8\n",
      "10\n",
      "6\n",
      "9\n",
      "7\n",
      "[ 3  5  1  4  2  8 10  6  9  7]\n",
      "[ 1  2  3  4  5  6  7  8  9 10]\n"
     ]
    }
   ],
   "source": [
    "# QUESTION - 2\n",
    "\n",
    "n = int(input())\n",
    "lst1 = []\n",
    "lst2 = []\n",
    "for i in range(0,n):\n",
    "    ele1 = int(input())\n",
    "    lst1.append(ele1)\n",
    "for j in range(0,n):\n",
    "    ele2 = int(input())\n",
    "    lst2.append(ele2)\n",
    "arr1 = np.array(lst1)\n",
    "arr2 = np.array(lst2)\n",
    "con = np.concatenate((arr1,arr2),axis=0)\n",
    "print(con)\n",
    "print(np.sort(con))"
   ]
  },
  {
   "cell_type": "code",
   "execution_count": 28,
   "metadata": {},
   "outputs": [
    {
     "name": "stdout",
     "output_type": "stream",
     "text": [
      "[ 8  6 10  9  7]\n",
      "1\n"
     ]
    }
   ],
   "source": [
    "# QUESTIION - 3\n",
    "\n",
    "print(arr)\n",
    "\n",
    "print(arr.ndim)"
   ]
  },
  {
   "cell_type": "code",
   "execution_count": 27,
   "metadata": {},
   "outputs": [
    {
     "name": "stdout",
     "output_type": "stream",
     "text": [
      "5\n"
     ]
    }
   ],
   "source": [
    "print(arr.size)"
   ]
  },
  {
   "cell_type": "code",
   "execution_count": 34,
   "metadata": {},
   "outputs": [
    {
     "name": "stdout",
     "output_type": "stream",
     "text": [
      "[[1 2 3]\n",
      " [4 5 6]]\n"
     ]
    }
   ],
   "source": [
    "# QUESTION - 4\n",
    "\n",
    "#CONVERTI 1D TO 2D ARRAY\n",
    "\n",
    "d1 = np.array([1,2,3,4,5,6])\n",
    "d2 = np.reshape(d1,(-1,3))\n",
    "print(d2)\n"
   ]
  },
  {
   "cell_type": "code",
   "execution_count": 41,
   "metadata": {},
   "outputs": [
    {
     "name": "stdout",
     "output_type": "stream",
     "text": [
      "[[1. 1. 1.]\n",
      " [1. 1. 1.]\n",
      " [1. 1. 1.]\n",
      " [2. 2. 2.]]\n"
     ]
    }
   ],
   "source": [
    "# QUESTION - 5\n",
    "\n",
    "# VSTACK\n",
    "\n",
    "a = np.ones((3,3))\n",
    "b = np.vstack((a,np.array((2,2,2))))\n",
    "print(b)"
   ]
  },
  {
   "cell_type": "code",
   "execution_count": 44,
   "metadata": {},
   "outputs": [
    {
     "name": "stdout",
     "output_type": "stream",
     "text": [
      "[[2]\n",
      " [2]\n",
      " [2]]\n",
      "\n",
      "[[1. 1. 1. 2.]\n",
      " [1. 1. 1. 2.]\n",
      " [1. 1. 1. 2.]]\n"
     ]
    }
   ],
   "source": [
    "# HSTACK\n",
    "\n",
    "a = np.ones((3,3))\n",
    "b = np.array((2,2,2)).reshape(3,1)\n",
    "print(b)\n",
    "c = np.hstack((a,b))\n",
    "print()\n",
    "print(c)"
   ]
  },
  {
   "cell_type": "code",
   "execution_count": 45,
   "metadata": {},
   "outputs": [
    {
     "name": "stdout",
     "output_type": "stream",
     "text": [
      "Unique items in a [1, 2, 2, 5, 8, 4, 4, 8] is [1, 2, 5, 8, 4]\n",
      "Count of unique items is 5\n"
     ]
    }
   ],
   "source": [
    "# QUESTION - 6\n",
    "\n",
    "lst = [1,2,2,5,8,4,4,8]\n",
    "\n",
    "lst2 = []\n",
    "count = 0\n",
    "for item in lst:\n",
    "    if item not in lst2:\n",
    "        lst2.append(item)\n",
    "        count += 1\n",
    "print('Unique items in a',lst,'is',lst2)\n",
    "print('Count of unique items is',count)"
   ]
  },
  {
   "cell_type": "code",
   "execution_count": null,
   "metadata": {},
   "outputs": [],
   "source": []
  }
 ],
 "metadata": {
  "kernelspec": {
   "display_name": "Python 3",
   "language": "python",
   "name": "python3"
  },
  "language_info": {
   "codemirror_mode": {
    "name": "ipython",
    "version": 3
   },
   "file_extension": ".py",
   "mimetype": "text/x-python",
   "name": "python",
   "nbconvert_exporter": "python",
   "pygments_lexer": "ipython3",
   "version": "3.8.3"
  }
 },
 "nbformat": 4,
 "nbformat_minor": 4
}
