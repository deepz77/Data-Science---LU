{
 "cells": [
  {
   "cell_type": "code",
   "execution_count": 20,
   "metadata": {},
   "outputs": [
    {
     "name": "stdout",
     "output_type": "stream",
     "text": [
      "10\n",
      "1\n",
      "2\n",
      "3\n",
      "4\n",
      "5\n",
      "6\n",
      "7\n",
      "8\n",
      "9\n",
      "10\n",
      "[2, 4, 6, 8, 10]\n"
     ]
    }
   ],
   "source": [
    "# QUESTION - 1\n",
    "\n",
    "# CREATE AN EMPTY LIST. ACCEPT 10 NUMBERS FROM THE USER AND APPEND IT TO THE LIST IF IT IS AN EVEN NUMBER.\n",
    "\n",
    "empty = []\n",
    "n = int(input())\n",
    "for i in range(0,n):\n",
    "    element = int(input())\n",
    "    if( element % 2 == 0 ):\n",
    "        empty.append(element)\n",
    "print(empty)"
   ]
  },
  {
   "cell_type": "code",
   "execution_count": 21,
   "metadata": {},
   "outputs": [
    {
     "name": "stdout",
     "output_type": "stream",
     "text": [
      "[1, 4, 9, 16, 25]\n"
     ]
    }
   ],
   "source": [
    "# QUESTION - 2\n",
    "\n",
    "# CREATE A NOTEBOOK ON LIST COMPREHENSION\n",
    "\n",
    "lst = [1,2,3,4,5]\n",
    "\n",
    "square = [i**2 for i in lst]\n",
    "\n",
    "print(square)\n",
    "\n"
   ]
  },
  {
   "cell_type": "code",
   "execution_count": 22,
   "metadata": {},
   "outputs": [
    {
     "name": "stdout",
     "output_type": "stream",
     "text": [
      "[9, 16, 25]\n"
     ]
    }
   ],
   "source": [
    "lst\n",
    "\n",
    "squares =[i**2 for i in lst if i > 2]\n",
    "\n",
    "print(squares)"
   ]
  },
  {
   "cell_type": "code",
   "execution_count": 23,
   "metadata": {},
   "outputs": [
    {
     "name": "stdout",
     "output_type": "stream",
     "text": [
      "[2, 4, 6, 8, 10]\n"
     ]
    }
   ],
   "source": [
    "lst1 = [1,2,3,4,5,6,7,8,9,10]\n",
    "\n",
    "even = [i for i in lst1 if i%2 == 0]\n",
    "\n",
    "print(even)"
   ]
  },
  {
   "cell_type": "code",
   "execution_count": 1,
   "metadata": {},
   "outputs": [
    {
     "name": "stdout",
     "output_type": "stream",
     "text": [
      "5\n",
      "{1: 1, 2: 4, 3: 9, 4: 16, 5: 25}\n"
     ]
    }
   ],
   "source": [
    "# QUESTION - 3\n",
    "\n",
    "# DICTIONARY DATA STRUCTURE\n",
    "\n",
    "dct = {}\n",
    "n = int(input())\n",
    "for i in range(1,n+1):\n",
    "    dct[i] = i*i\n",
    "    \n",
    "print(dct)\n",
    "   "
   ]
  },
  {
   "cell_type": "code",
   "execution_count": 11,
   "metadata": {},
   "outputs": [
    {
     "name": "stdout",
     "output_type": "stream",
     "text": [
      "4\n",
      "UP 5\n",
      "DOWN 3\n",
      "LEFT 3\n",
      "RIGHT 2\n",
      "2\n"
     ]
    }
   ],
   "source": [
    "# QUESTIION - 4\n",
    "\n",
    "import math\n",
    "\n",
    "position = [0,0]\n",
    "moves = []\n",
    "\n",
    "s = int(input())\n",
    "\n",
    "for i in range(s):\n",
    "    moves = list(input().split())\n",
    "    \n",
    "    direction = moves[0].upper()\n",
    "    steps = int(moves[1])\n",
    "    \n",
    "    if direction == \"UP\":\n",
    "        position[0]+=steps\n",
    "    elif direction == \"DOWN\":\n",
    "        position[0]-=steps\n",
    "    elif direction == \"LEFT\":\n",
    "        position[1]-=steps\n",
    "    elif direction == \"RIGHT\":\n",
    "        position[1]+=steps\n",
    "    else:\n",
    "        pass\n",
    "    \n",
    "print(round(math.sqrt(position[0]**2+position[1]**2)))"
   ]
  },
  {
   "cell_type": "code",
   "execution_count": null,
   "metadata": {},
   "outputs": [],
   "source": []
  }
 ],
 "metadata": {
  "kernelspec": {
   "display_name": "Python 3",
   "language": "python",
   "name": "python3"
  },
  "language_info": {
   "codemirror_mode": {
    "name": "ipython",
    "version": 3
   },
   "file_extension": ".py",
   "mimetype": "text/x-python",
   "name": "python",
   "nbconvert_exporter": "python",
   "pygments_lexer": "ipython3",
   "version": "3.8.3"
  }
 },
 "nbformat": 4,
 "nbformat_minor": 4
}
