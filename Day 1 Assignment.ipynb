{
 "cells": [
  {
   "cell_type": "code",
   "execution_count": 3,
   "metadata": {},
   "outputs": [
    {
     "name": "stdout",
     "output_type": "stream",
     "text": [
      "Wrong\n",
      "Correct\n"
     ]
    }
   ],
   "source": [
    "# QUESTION - 1\n",
    "\n",
    "# GIVEN THE JUMBLED WORDS, OBANWRI GUESS THE CORRECT ENGLISH WORD.\n",
    "\n",
    "OptionsGiven = ['RANIBOW','RAINBOW','BOWRANI','ROBWANI']\n",
    "CorrectOption ='RAINBOW'\n",
    "\n",
    "for Option in OptionsGiven:\n",
    "    if (Option == CorrectOption and Option == 'RAINBOW'):\n",
    "        print('Correct')\n",
    "        break\n",
    "    else:\n",
    "        print('Wrong')"
   ]
  },
  {
   "cell_type": "code",
   "execution_count": 9,
   "metadata": {},
   "outputs": [
    {
     "name": "stdout",
     "output_type": "stream",
     "text": [
      "LETS UPGRADE\n"
     ]
    }
   ],
   "source": [
    "# QUESTION - 2\n",
    "\n",
    "# WRITE A PROGRAM THAT PRINTS 'LETS UPGRADE' IN ALL CAPS.\n",
    "\n",
    "a = 'lets upgrade'\n",
    "b = a.upper()\n",
    "print(b)"
   ]
  },
  {
   "cell_type": "code",
   "execution_count": 11,
   "metadata": {},
   "outputs": [
    {
     "name": "stdout",
     "output_type": "stream",
     "text": [
      "20\n",
      "30\n",
      "Profit\n"
     ]
    }
   ],
   "source": [
    "# QUESTION - 3\n",
    "\n",
    "# WRITE A PROGRAM THAT TAKES COST PRICE AND SELLING PRICE AS INPUT AND \n",
    "#DISPLAYS WHETHER THE TRANSACTION IS A PROFIT OR A LOSS OR NEITHER.\n",
    "\n",
    "CostPrice = int(input())\n",
    "SellingPrice = int(input())\n",
    "\n",
    "if(CostPrice > SellingPrice):\n",
    "    print('Loss')\n",
    "elif(CostPrice < SellingPrice):\n",
    "    print('Profit')\n",
    "else:\n",
    "    print('Neither')"
   ]
  },
  {
   "cell_type": "code",
   "execution_count": 12,
   "metadata": {},
   "outputs": [
    {
     "name": "stdout",
     "output_type": "stream",
     "text": [
      "20\n",
      "10\n",
      "Loss\n"
     ]
    }
   ],
   "source": [
    "CostPrice = int(input())\n",
    "SellingPrice = int(input())\n",
    "\n",
    "if(CostPrice > SellingPrice):\n",
    "    print('Loss')\n",
    "elif(CostPrice < SellingPrice):\n",
    "    print('Profit')\n",
    "else:\n",
    "    print('Neither')"
   ]
  },
  {
   "cell_type": "code",
   "execution_count": 13,
   "metadata": {},
   "outputs": [
    {
     "name": "stdout",
     "output_type": "stream",
     "text": [
      "20\n",
      "20\n",
      "Neither\n"
     ]
    }
   ],
   "source": [
    "CostPrice = int(input())\n",
    "SellingPrice = int(input())\n",
    "\n",
    "if(CostPrice > SellingPrice):\n",
    "    print('Loss')\n",
    "elif(CostPrice < SellingPrice):\n",
    "    print('Profit')\n",
    "else:\n",
    "    print('Neither')"
   ]
  },
  {
   "cell_type": "code",
   "execution_count": 15,
   "metadata": {},
   "outputs": [
    {
     "name": "stdout",
     "output_type": "stream",
     "text": [
      "20\n",
      "1600\n"
     ]
    }
   ],
   "source": [
    "# QUESTION - 4\n",
    "\n",
    "# WRITE A PROGRAM THAT TAKES AN AMOUNT IN EUROS AS INPUT. YOU NEED TO FIND ITS EQUIVALENT IN RUPEES AND DISPLAYS IT. \n",
    "# ASSUME 1 EURO EQUALS TO RS.80.\n",
    "\n",
    "Euros = int(input())\n",
    "\n",
    "Rs = Euros * 80\n",
    "print(Rs)"
   ]
  },
  {
   "cell_type": "code",
   "execution_count": 16,
   "metadata": {},
   "outputs": [
    {
     "name": "stdout",
     "output_type": "stream",
     "text": [
      "50\n",
      "4000\n"
     ]
    }
   ],
   "source": [
    "Euros = int(input())\n",
    "\n",
    "Rs = Euros * 80\n",
    "print(Rs)"
   ]
  },
  {
   "cell_type": "code",
   "execution_count": null,
   "metadata": {},
   "outputs": [],
   "source": []
  }
 ],
 "metadata": {
  "kernelspec": {
   "display_name": "Python 3",
   "language": "python",
   "name": "python3"
  },
  "language_info": {
   "codemirror_mode": {
    "name": "ipython",
    "version": 3
   },
   "file_extension": ".py",
   "mimetype": "text/x-python",
   "name": "python",
   "nbconvert_exporter": "python",
   "pygments_lexer": "ipython3",
   "version": "3.8.3"
  }
 },
 "nbformat": 4,
 "nbformat_minor": 4
}
